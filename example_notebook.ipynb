{
 "cells": [
  {
   "cell_type": "code",
   "execution_count": 1,
   "id": "11c118bb-131a-4efd-aaf4-36aa6aef1a91",
   "metadata": {},
   "outputs": [],
   "source": [
    "import pyrts"
   ]
  },
  {
   "cell_type": "code",
   "execution_count": 2,
   "id": "efbaf6f8-8978-4ad8-b3b5-e5c721647a75",
   "metadata": {},
   "outputs": [],
   "source": [
    "s40_rts = pyrts.model.PyRTS('/Users/andreww/Downloads/SP12RTS_plotting/S40RTS.sph')"
   ]
  },
  {
   "cell_type": "code",
   "execution_count": 3,
   "id": "76d88ce1-5f2f-473e-abac-19695387b77f",
   "metadata": {},
   "outputs": [],
   "source": [
    "s20_rts = pyrts.model.PyRTS('/Users/andreww/Downloads/SP12RTS_plotting/S20RTS.sph', degree=20)"
   ]
  },
  {
   "cell_type": "code",
   "execution_count": 4,
   "id": "6025e1b8-4425-4604-81aa-e04adc3cb587",
   "metadata": {},
   "outputs": [],
   "source": [
    "sp12_rts_s = pyrts.model.PyRTS(degree=12)\n",
    "sp12_rts_s.read_sph_file('/Users/andreww/Downloads/SP12RTS_plotting/SP12RTS..ES.sph')"
   ]
  },
  {
   "cell_type": "code",
   "execution_count": 5,
   "id": "c0589cc3-1ed0-4e6f-835d-cd8c7f0a5517",
   "metadata": {},
   "outputs": [
    {
     "ename": "ModuleNotFoundError",
     "evalue": "No module named 'pyshtools'",
     "output_type": "error",
     "traceback": [
      "\u001b[0;31m---------------------------------------------------------------------------\u001b[0m",
      "\u001b[0;31mModuleNotFoundError\u001b[0m                       Traceback (most recent call last)",
      "\u001b[0;32m/var/folders/j_/przs7cfj1b7czhv250v8t_440000gn/T/ipykernel_54543/2716393206.py\u001b[0m in \u001b[0;36m<module>\u001b[0;34m\u001b[0m\n\u001b[0;32m----> 1\u001b[0;31m \u001b[0;32mimport\u001b[0m \u001b[0mpyshtools\u001b[0m \u001b[0;32mas\u001b[0m \u001b[0mshtools\u001b[0m\u001b[0;34m\u001b[0m\u001b[0;34m\u001b[0m\u001b[0m\n\u001b[0m",
      "\u001b[0;31mModuleNotFoundError\u001b[0m: No module named 'pyshtools'"
     ]
    }
   ],
   "source": [
    "import pyshtools as shtools"
   ]
  },
  {
   "cell_type": "code",
   "execution_count": null,
   "id": "d048896f-5e3a-4ce2-94b8-e3a9ddc352e7",
   "metadata": {},
   "outputs": [],
   "source": []
  }
 ],
 "metadata": {
  "kernelspec": {
   "display_name": "Python 3 (ipykernel)",
   "language": "python",
   "name": "python3"
  },
  "language_info": {
   "codemirror_mode": {
    "name": "ipython",
    "version": 3
   },
   "file_extension": ".py",
   "mimetype": "text/x-python",
   "name": "python",
   "nbconvert_exporter": "python",
   "pygments_lexer": "ipython3",
   "version": "3.9.7"
  }
 },
 "nbformat": 4,
 "nbformat_minor": 5
}
